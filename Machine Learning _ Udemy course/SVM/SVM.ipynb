{
 "cells": [
  {
   "cell_type": "code",
   "execution_count": null,
   "id": "207403f5-41fb-49f7-a9f8-ca5e73443460",
   "metadata": {},
   "outputs": [],
   "source": [
    "import pandas as pd\n",
    "import matplotlib.pyplot as plt \n",
    "import  seaborn as sns\n",
    "import numpy as np\n",
    "\n",
    "from sklearn.svm import SVC\n",
    "from sklearn.model_selection import GridSearchCV\n",
    "from svm_margin_plot import plot_svm_boundary"
   ]
  },
  {
   "cell_type": "code",
   "execution_count": null,
   "id": "f3c113d4-36d7-4d06-9363-f883ca035f2e",
   "metadata": {},
   "outputs": [],
   "source": [
    "df = pd.read_csv('../DATA/mouse_viral_study.csv')"
   ]
  },
  {
   "cell_type": "code",
   "execution_count": null,
   "id": "f54b13af-8740-4d79-9c80-114ce8438607",
   "metadata": {},
   "outputs": [],
   "source": [
    "df.head()"
   ]
  },
  {
   "cell_type": "code",
   "execution_count": null,
   "id": "1346ae09-bc13-46bb-8f23-e7e0923cee3b",
   "metadata": {},
   "outputs": [],
   "source": [
    "sns.scatterplot(x= 'Med_1_mL', y = 'Med_2_mL', hue = 'Virus Present',data = df)\n",
    "\n",
    "#create a hyperplane \n",
    "x = np.linspace(0,10,100)\n",
    "m = -1\n",
    "b = 11\n",
    "y = m*x + b\n",
    "plt.plot(x,y,'k')"
   ]
  },
  {
   "cell_type": "code",
   "execution_count": null,
   "id": "96b61d4c-e7ea-4605-a1f4-2d3345f91751",
   "metadata": {},
   "outputs": [],
   "source": [
    "y = df['Virus Present']\n",
    "y.shape"
   ]
  },
  {
   "cell_type": "code",
   "execution_count": null,
   "id": "7ff66452-4b28-44fb-89b7-1ad600460806",
   "metadata": {},
   "outputs": [],
   "source": [
    "X = df.drop('Virus Present', axis = 1)\n",
    "X.head()"
   ]
  },
  {
   "cell_type": "code",
   "execution_count": null,
   "id": "b2a39962-9999-43fd-a532-a2b21fb7c6f6",
   "metadata": {},
   "outputs": [],
   "source": [
    "model = SVC(kernel = 'linear', C=1000)"
   ]
  },
  {
   "cell_type": "markdown",
   "id": "1c4af3fc-d165-4793-bf57-1b3deea7dd15",
   "metadata": {},
   "source": []
  },
  {
   "cell_type": "code",
   "execution_count": null,
   "id": "64941307-4f5b-4f53-ab7b-a99acaf86c8f",
   "metadata": {},
   "outputs": [],
   "source": [
    "model.fit(X,y)"
   ]
  },
  {
   "cell_type": "code",
   "execution_count": null,
   "id": "b8243f96-9264-4dac-8096-d2406d865be7",
   "metadata": {},
   "outputs": [],
   "source": [
    "plot_svm_boundary(model,X,y)"
   ]
  },
  {
   "cell_type": "code",
   "execution_count": null,
   "id": "46362980-1c18-4fdf-b32e-f734306713f5",
   "metadata": {},
   "outputs": [],
   "source": [
    "# x1 = np.logspace(0.00001, 3, 5, endpoint=True)\n",
    "x1 = [1, 0.5,0.05, 0.005, 0.0005]"
   ]
  },
  {
   "cell_type": "code",
   "execution_count": null,
   "id": "aba5070f-2452-4200-9818-57f4907f6905",
   "metadata": {},
   "outputs": [],
   "source": [
    "for c_val in x1:\n",
    "    print(c_val)\n",
    "    model = SVC(kernel = 'linear', C=c_val)\n",
    "    model.fit(X,y)\n",
    "    plot_svm_boundary(model,X,y)"
   ]
  },
  {
   "cell_type": "code",
   "execution_count": null,
   "id": "db1ea7a5-4108-4d79-a1bc-15107b4ab659",
   "metadata": {},
   "outputs": [],
   "source": [
    "for c_val in x1:\n",
    "    print(c_val)\n",
    "    model = SVC(kernel = 'rbf', C=c_val)\n",
    "    model.fit(X,y)\n",
    "    plot_svm_boundary(model,X,y)"
   ]
  },
  {
   "cell_type": "code",
   "execution_count": null,
   "id": "f700764d-f517-41ab-b6e6-f577d80ce9c9",
   "metadata": {},
   "outputs": [],
   "source": [
    "# Trying out the gamma variable (influences the effect of a single training example)"
   ]
  },
  {
   "cell_type": "code",
   "execution_count": null,
   "id": "1fe610d1-8c14-4b9c-8a7f-c9b1bc254c0f",
   "metadata": {},
   "outputs": [],
   "source": [
    "model_gamma = SVC(kernel = 'rbf', C = 1, gamma=1)\n",
    "model_gamma.fit(X,y)\n",
    "plot_svm_boundary(model_gamma, X,y)"
   ]
  },
  {
   "cell_type": "code",
   "execution_count": null,
   "id": "b05f85e5-ad4d-4575-933e-253d6b87f5b1",
   "metadata": {},
   "outputs": [],
   "source": [
    "model_sigmoid = SVC(kernel = 'sigmoid', C = 1)\n",
    "model_sigmoid.fit(X,y)\n",
    "plot_svm_boundary(model_sigmoid,X,y)"
   ]
  },
  {
   "cell_type": "code",
   "execution_count": null,
   "id": "96f303b4-dc5e-4ebc-994f-393ba651cd84",
   "metadata": {},
   "outputs": [],
   "source": [
    "model_poly = SVC(kernel = 'poly', degree = 4, C = 10)\n",
    "model_poly.fit(X,y)\n",
    "plot_svm_boundary(model_poly,X,y)"
   ]
  },
  {
   "cell_type": "code",
   "execution_count": null,
   "id": "1bc9f743-2c57-4d1e-ae83-9ad2493126cf",
   "metadata": {},
   "outputs": [],
   "source": [
    "svm = SVC()\n",
    "parameter_grid = {'C':[0.001,0.01, 0.1, 1,10], 'kernel':['linear','rbf', 'sigmoid']}\n",
    "Gridsvm = GridSearchCV(svm, parameter_grid)"
   ]
  },
  {
   "cell_type": "code",
   "execution_count": null,
   "id": "c4bc0c81-c4f8-4ac7-b260-9435343f02ff",
   "metadata": {},
   "outputs": [],
   "source": [
    "Gridsvm.fit(X,y)"
   ]
  },
  {
   "cell_type": "code",
   "execution_count": null,
   "id": "5b14d66b-f5ab-4448-bc2a-800a3bc6f7f9",
   "metadata": {},
   "outputs": [],
   "source": [
    "Gridsvm.best_params_"
   ]
  },
  {
   "cell_type": "code",
   "execution_count": null,
   "id": "73a3cc6f-5fb2-47cb-89b9-5a6831768b8f",
   "metadata": {},
   "outputs": [],
   "source": []
  },
  {
   "cell_type": "code",
   "execution_count": null,
   "id": "4ff280fe-11ab-4507-85f0-86fd01172b20",
   "metadata": {},
   "outputs": [],
   "source": []
  }
 ],
 "metadata": {
  "kernelspec": {
   "display_name": "Python 3 (ipykernel)",
   "language": "python",
   "name": "python3"
  },
  "language_info": {
   "codemirror_mode": {
    "name": "ipython",
    "version": 3
   },
   "file_extension": ".py",
   "mimetype": "text/x-python",
   "name": "python",
   "nbconvert_exporter": "python",
   "pygments_lexer": "ipython3",
   "version": "3.11.5"
  }
 },
 "nbformat": 4,
 "nbformat_minor": 5
}
